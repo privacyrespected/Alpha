{
 "cells": [
  {
   "cell_type": "markdown",
   "metadata": {},
   "source": [
    "# Implementation of NLP methods in Alpha"
   ]
  },
  {
   "cell_type": "markdown",
   "metadata": {},
   "source": [
    "This documentation's aim is to make a rundown on the 4 methods of Natural language processing (NLP) methods that could be useful for identifying Alpha's users requests. \n",
    "\n",
    "Tasks:\n",
    "1. Identify the order of NLP methods (if we are using all of them)\n",
    "2. Determine how to integrate into the alpha_main.py system\n",
    "3. Produce relevant responses"
   ]
  },
  {
   "cell_type": "markdown",
   "metadata": {},
   "source": [
    "Note:\n",
    "- For easier communications, this part of the research, the query we input by default is:\n",
    "`Alpha, what is the definition of photosynthesis`\n",
    "- We will then further complicate the query at the later end of the project to make the query more accurate and complex "
   ]
  },
  {
   "cell_type": "markdown",
   "metadata": {},
   "source": [
    "Order of NLP methods:\n",
    "We have determined, by complexity and the possible output of the resultant query, the order of NLP methods:\n",
    "1. S&L\n",
    "2. NER\n",
    "3. tdidf\n",
    "4. VADER (for emotions)"
   ]
  },
  {
   "cell_type": "markdown",
   "metadata": {},
   "source": [
    "### Part 1: stemming and lemmatization"
   ]
  },
  {
   "cell_type": "markdown",
   "metadata": {},
   "source": [
    "### Trial 1"
   ]
  },
  {
   "cell_type": "code",
   "execution_count": 1,
   "metadata": {},
   "outputs": [
    {
     "name": "stdout",
     "output_type": "stream",
     "text": [
      "Original\n",
      ", what is the definition of photosynthesi\n",
      "stemmed\n",
      ", what is the definition of photosynthesis\n"
     ]
    }
   ],
   "source": [
    "#this is the first part of the NLP\n",
    "from nltk.stem import PorterStemmer\n",
    "from nltk.stem import LancasterStemmer\n",
    "query=\"Alpha, what is the definition of photosynthesis\"\n",
    "query=query.lower()\n",
    "extrawords=[\n",
    "    \"alpha\",\n",
    "    \"hello\"\n",
    "]\n",
    "for x in extrawords:\n",
    "    if x in query:\n",
    "        query=query.replace(x,\"\")\n",
    "    else:\n",
    "        continue\n",
    "# PorterStemmer\n",
    "porter = PorterStemmer()\n",
    "# LancasterStemmer\n",
    "lancaster = LancasterStemmer()\n",
    "print(\"Original\")\n",
    "print(porter.stem(query))\n",
    "print(\"stemmed\")\n",
    "print(lancaster.stem(query))"
   ]
  },
  {
   "cell_type": "markdown",
   "metadata": {},
   "source": [
    "Findings: it has appeared that the words were not stemmed at all.\n",
    "Solution: we can try breaking the string, removing the punctuation, and recombining the string"
   ]
  },
  {
   "cell_type": "markdown",
   "metadata": {},
   "source": [
    "### Trial 2:"
   ]
  },
  {
   "cell_type": "code",
   "execution_count": null,
   "metadata": {},
   "outputs": [],
   "source": [
    "#this is the first part of the NLP\n",
    "from string import punctuation\n",
    "from nltk.stem import PorterStemmer\n",
    "from nltk.stem import LancasterStemmer\n",
    "query=\"Alpha, what is the definition of photosynthesis\"\n",
    "query=query.lower()\n",
    "extrawords=[\n",
    "    \"alpha\",\n",
    "    \"hello\"\n",
    "]\n",
    "punctuation=[ #can be replaced with chatterbot corpus maybe?\n",
    "    \",\",\n",
    "    \".\",\n",
    "    \"?\",\n",
    "    \"!\"\n",
    "]\n",
    "for x in extrawords:\n",
    "    if x in query:\n",
    "        query=query.replace(x,\"\")\n",
    "    else:\n",
    "        continue\n",
    "#break string\n",
    "new=query.split(\" \")\n",
    "print(new)\n",
    "# PorterStemmer\n",
    "porter = PorterStemmer()\n",
    "# LancasterStemmer\n",
    "lancaster = LancasterStemmer()\n",
    "print(\"Original\")\n",
    "print(porter.stem(query))\n",
    "print(\"stemmed\")\n",
    "print(lancaster.stem(query))"
   ]
  }
 ],
 "metadata": {
  "kernelspec": {
   "display_name": "Python 3.7.8 64-bit",
   "language": "python",
   "name": "python3"
  },
  "language_info": {
   "codemirror_mode": {
    "name": "ipython",
    "version": 3
   },
   "file_extension": ".py",
   "mimetype": "text/x-python",
   "name": "python",
   "nbconvert_exporter": "python",
   "pygments_lexer": "ipython3",
   "version": "3.7.8"
  },
  "orig_nbformat": 4,
  "vscode": {
   "interpreter": {
    "hash": "85cab9e096cbab1951b2d3a14822210bb6543dde301eda19da12202a5ce4203b"
   }
  }
 },
 "nbformat": 4,
 "nbformat_minor": 2
}
